{
 "cells": [
  {
   "cell_type": "markdown",
   "metadata": {
    "deletable": false,
    "editable": false,
    "nbgrader": {
     "cell_type": "markdown",
     "checksum": "b9ce270d6d3b308a0a4803f8cc03638f",
     "grade": false,
     "grade_id": "cell-14bc8bc2e3f3b50b",
     "locked": true,
     "schema_version": 3,
     "solution": false
    },
    "run_control": {
     "frozen": true
    }
   },
   "source": [
    "---\n",
    "Stellen Sie bitte sicher, dass alles wie vorhergesehen läuft, bevor Sie dieses Übungsblatt abgeben. **Starten Sie den Kernel neu** (in der Menüleiste die Option Kernel$\\rightarrow$Restart auswählen) und **validieren** Sie anschließend das Übungsblatt (in der Menüleiste auf Validate klicken) um Rückmeldung zu eventuellen fehlenden oder fehlerhaften Eingaben zu erhalten. \n",
    "\n",
    "Füllen Sie alle Stellen im Übungsblatt aus, welche entweder `DEIN CODE HIER` oder \"DEINE ANTWORT HIER\" enthalten. Geben Sie unterhalb Ihren vollständigen Namen an.\n",
    "\n",
    "Wenn Sie Code-Bestandteile aus anderen Quellen (wie z.B. Stackoverflow) kopieren, dann machen sie den kopierten Code in ihrer Quellcodedatei kenntlich und fügen eine Referenz auf die Quelle als Kommentar hinzu.\n",
    "\n",
    "Wenn Sie die Aufgaben in einer Gruppe erledigen, dann fügen Sie die Namen aller Gruppenmitglieder in der nachfolgende Zelle zu `Name` und zusätzlich als Kommentar am Anfang Ihrer Quellcodedatei hinzu."
   ]
  },
  {
   "cell_type": "markdown",
   "metadata": {
    "deletable": false,
    "editable": false,
    "nbgrader": {
     "cell_type": "markdown",
     "checksum": "008460e9429099ecfb93dcd32bf095e8",
     "grade": false,
     "grade_id": "cell-8ae8fd1bec813ca4",
     "locked": true,
     "schema_version": 3,
     "solution": false
    },
    "run_control": {
     "frozen": true
    }
   },
   "source": [
    "---"
   ]
  },
  {
   "cell_type": "code",
   "execution_count": null,
   "metadata": {},
   "outputs": [],
   "source": [
    "NAME = \"Gernot Luidolt\""
   ]
  },
  {
   "cell_type": "markdown",
   "metadata": {
    "deletable": false,
    "editable": false,
    "nbgrader": {
     "cell_type": "markdown",
     "checksum": "c192b9832dd6a90237eec99f9da76301",
     "grade": false,
     "grade_id": "cell-4f279d8aadb7cf1a",
     "locked": true,
     "schema_version": 3,
     "solution": false
    },
    "run_control": {
     "frozen": true
    }
   },
   "source": [
    "---"
   ]
  },
  {
   "cell_type": "markdown",
   "metadata": {
    "deletable": false,
    "editable": false,
    "nbgrader": {
     "cell_type": "markdown",
     "checksum": "3f36620323c2ba37064be0f6400e99b1",
     "grade": false,
     "grade_id": "cell-6000643b7937cd3d",
     "locked": true,
     "schema_version": 3,
     "solution": false,
     "task": false
    },
    "run_control": {
     "frozen": true
    }
   },
   "source": [
    "<table style=\"width: 100%\">\n",
    "    <tr style=\"background: #ffffff\">\n",
    "        <td style=\"padding-top:25px;width: 180px\"><img src=\"https://mci.edu/templates/mci/images/logo.svg\" alt=\"Logo\"></td>\n",
    "        <td style=\"width: 100%\">\n",
    "            <div style=\"text-align:right; width: 100%; text-align:right\"><font style=\"font-size:38px\"><b>Rechnerstrukturen und<br />Embedded Systems</b></font></div>\n",
    "            <div style=\"padding-top:0px; width: 100%; text-align:right\"><font size=\"4\"><b>SS 2024</b></font></div>\n",
    "        </td>\n",
    "    </tr>\n",
    "</table>"
   ]
  },
  {
   "cell_type": "markdown",
   "metadata": {
    "deletable": false,
    "editable": false,
    "nbgrader": {
     "cell_type": "markdown",
     "checksum": "2e47c859f6b3383f51bf009d2d0c6fa6",
     "grade": false,
     "grade_id": "cell-eaf2f1d6f02c2581",
     "locked": true,
     "schema_version": 3,
     "solution": false,
     "task": false
    },
    "run_control": {
     "frozen": true
    }
   },
   "source": [
    "# Übungsblatt 1"
   ]
  },
  {
   "cell_type": "markdown",
   "metadata": {
    "deletable": false,
    "editable": false,
    "hide_input": true,
    "nbgrader": {
     "cell_type": "markdown",
     "checksum": "dd64b1ffa1daa67996e0d869e316b1d4",
     "grade": false,
     "grade_id": "cell-b0ab8a781f0300ef",
     "locked": true,
     "schema_version": 3,
     "solution": false,
     "task": false
    },
    "run_control": {
     "frozen": true
    }
   },
   "source": [
    "---\n",
    "Abgabe bis <b>Dienstag, 28. Mai 2024, 23:55 Uhr</b>"
   ]
  },
  {
   "cell_type": "code",
   "execution_count": null,
   "metadata": {
    "deletable": false,
    "editable": false,
    "hide_input": true,
    "nbgrader": {
     "cell_type": "code",
     "checksum": "edb9c8ea40d893791daa2736e3aea782",
     "grade": true,
     "grade_id": "cell-42bde275411cc1ee",
     "locked": true,
     "points": 0,
     "schema_version": 3,
     "solution": false,
     "task": false
    },
    "run_control": {
     "frozen": true
    }
   },
   "outputs": [],
   "source": [
    "import jagl\n",
    "import os\n",
    "import shutil"
   ]
  },
  {
   "cell_type": "markdown",
   "metadata": {
    "deletable": false,
    "editable": false,
    "nbgrader": {
     "cell_type": "markdown",
     "checksum": "d49d9f73cf718f81f17fdfb4bb8a0a7d",
     "grade": false,
     "grade_id": "cell-9538420f3c42e882",
     "locked": true,
     "schema_version": 3,
     "solution": false,
     "task": false
    },
    "run_control": {
     "frozen": true
    }
   },
   "source": [
    "---\n",
    "### Achtung:\n",
    "\n",
    "*Bitte speichern Sie Ihre Quellcode-Dateien (&ast;.cpp) im selben Ordner wie dieses Übungsblatt. Beachten Sie außerdem die Kommentare zur richtigen Benennung Ihrer Dateien. Nur so ist eine korrekte Abgabe und Auswertung Ihrer Lösungen möglich.*"
   ]
  },
  {
   "cell_type": "markdown",
   "metadata": {
    "deletable": false,
    "editable": false,
    "nbgrader": {
     "cell_type": "markdown",
     "checksum": "fad3b399e903c500080b1668e5cee24f",
     "grade": false,
     "grade_id": "cell-323b1d84c211a328",
     "locked": true,
     "schema_version": 3,
     "solution": false,
     "task": false
    },
    "run_control": {
     "frozen": true
    }
   },
   "source": [
    "---\n",
    "## Vertrautmachen mit der EduArdu-Umgebung und Eclipse\n",
    "<br />\n",
    "Bevor Sie mit dem Übungszettel beginnen, machen Sie sich mit der EduArdu-Umgebung und Eclipse vertraut.\n",
    "\n",
    "* Auf der Sakai-Seite des Kurses finden Sie unter \"Anwendungen\" die nötigen Tutorials um die Entwicklungsumgebung und die Treiber zu installieren, sowie die ersten Schritte zur Kommunikation mit dem EduArdu Microcontroller. Arbeiten Sie die Tutorials durch und stellen Sie sicher, dass die Kommunikation mit dem EduArdu funktioniert (Sie sollten die gleichen Ausgaben erhalten, wie im Tutorial gezeigt). \n",
    "\n",
    "* Unter \"EduArdu Dokumentation\" finden Sie die Dokumentation für das Board, sowie die jeweiligen Peripherie-Geräte. Diese Informationen werden Sie für alle Übungen benötigen. \n",
    "\n",
    "\n",
    "\n",
    " "
   ]
  },
  {
   "cell_type": "markdown",
   "metadata": {
    "deletable": false,
    "editable": false,
    "nbgrader": {
     "cell_type": "markdown",
     "checksum": "b93e88a0d3bee76a104d3d108c985db0",
     "grade": false,
     "grade_id": "cell-bf44f6b9a1cec38d",
     "locked": true,
     "schema_version": 3,
     "solution": false,
     "task": false
    },
    "run_control": {
     "frozen": true
    }
   },
   "source": [
    "## Aufgabe 1.1 Bitweise Operatoren (20%):\n",
    "\n",
    "Die Manipulation einzelner Bits wird bei der Programmierung von Mikrocontrollern sehr häufig benötigt. Aus diesem Grund wollen wir in dieser Aufgabe ein paar Makros implementieren, die diese Manipulation vereinfachen. Sie können diese Makros dann für zukünftige Aufgaben verwenden.\n",
    "\n",
    "In der Datei `bitoperations.h` sollen folgende Makros implementiert werden:\n",
    "\n",
    "* `SB(VALUE, POSITION)`: setzt das Bit (d.h. das Bit nimmt den Wert 1 an) an der Stelle `POSITION`.\n",
    "* `CB(VALUE, POSITION)`: löscht das Bit (d.h. das Bit nimmt den Wert 0 an) an der Stelle `POSITION`.\n",
    "* `IBS(VALUE, POSITION)`: prüft, ob das bit an der Stelle `POSITION` gesetzt ist (d.h. ob es den Wert 1 hat).\n",
    "* `TB(VALUE, POSITION)`: \"toggelt\" (hin- und herschalten) das Bit an der Stelle `POSITION`.\n",
    "\n",
    "Für die Implementierung dieser Makros benötigen sie die `bitweisen Operatoren`. Auf Sakai finden Sie auf der Lesson 1 Seite unter Selbststudium entsprechende Links, die die Funktionsweise der bitweisen Operatoren erklären.\n",
    "\n",
    "Schreiben Sie ausserdem ein kleines Programm (in der Datei `main.cpp`), das die Verwendung ihrer Makros demonstriert. "
   ]
  },
  {
   "cell_type": "code",
   "execution_count": null,
   "metadata": {
    "deletable": false,
    "editable": false,
    "hide_input": true,
    "nbgrader": {
     "cell_type": "code",
     "checksum": "aad6cd407864ffca1f9bb24143dfbb85",
     "grade": true,
     "grade_id": "cell-c14d6fb498e62c41",
     "locked": true,
     "points": 0,
     "schema_version": 3,
     "solution": false,
     "task": false
    },
    "run_control": {
     "frozen": true
    }
   },
   "outputs": [],
   "source": [
    "\n",
    "# new test suite\n",
    "jagl.testsuite_begin(\"Exercise 1\")\n"
   ]
  },
  {
   "cell_type": "code",
   "execution_count": null,
   "metadata": {
    "nbgrader": {
     "cell_type": "code",
     "checksum": "ff11efdc9dce7b207dae4fae39c09449",
     "grade": false,
     "grade_id": "cell-82f9108dd08fe600",
     "locked": false,
     "schema_version": 3,
     "solution": true,
     "task": false
    }
   },
   "outputs": [],
   "source": [
    "# Weisen Sie der untenstehenden Variable den Wert True zu, sobald Sie die Aufgabe erfolgreich erledigt haben!\n",
    "\n",
    "exercise_1_1_solved = True"
   ]
  },
  {
   "cell_type": "code",
   "execution_count": null,
   "metadata": {
    "deletable": false,
    "editable": false,
    "hide_input": true,
    "nbgrader": {
     "cell_type": "code",
     "checksum": "6fdf2495fc5e58fa1131a3a04ca10cf5",
     "grade": true,
     "grade_id": "cell-1e700b1fe75e2a89",
     "locked": true,
     "points": 20,
     "schema_version": 3,
     "solution": false,
     "task": false
    },
    "run_control": {
     "frozen": true
    }
   },
   "outputs": [],
   "source": [
    "@jagl.testcase(\"1\", desc=\"Exercise Solved\")\n",
    "def testcase_1_1(result, suite, case):\n",
    "    varname = \"exercise_1_1_solved\"\n",
    "    result.setSucceeded()\n",
    "    jagl.check_variable_exists_and_has_type(result, globals(), varname, bool)\n",
    "    if result.isSucceeded():\n",
    "        if eval(varname):\n",
    "            result.setSucceeded(\"Exercise solved.\")\n",
    "        else:\n",
    "            result.setFailed(\"Exercise not solved.\")"
   ]
  },
  {
   "cell_type": "code",
   "execution_count": null,
   "metadata": {
    "deletable": false,
    "editable": false,
    "hide_input": true,
    "nbgrader": {
     "cell_type": "code",
     "checksum": "1d67c8f4c65b69905c0d127a07ac67c7",
     "grade": true,
     "grade_id": "cell-1323ee1969c98864",
     "locked": true,
     "points": 0,
     "schema_version": 3,
     "solution": false,
     "task": false
    },
    "run_control": {
     "frozen": true
    }
   },
   "outputs": [],
   "source": [
    "@jagl.testcase(\"2\", desc=\"Check source files\", deps=[\"1\"])\n",
    "def testcase_1_2(result, suite, case):\n",
    "    result.setSucceeded()\n",
    "    jagl.check_path_exists(result, files=[\"bitoperations.h\", \"main.cpp\"], message = \"Did you upload the source files?\")\n",
    "    if result.isSucceeded():\n",
    "        result.addMessage(\"Source files were found.\")"
   ]
  },
  {
   "cell_type": "code",
   "execution_count": null,
   "metadata": {
    "deletable": false,
    "editable": false,
    "hide_input": true,
    "nbgrader": {
     "cell_type": "code",
     "checksum": "399fceb650800476d04886328771901e",
     "grade": true,
     "grade_id": "cell-25675b2662e81f5a",
     "locked": true,
     "points": 0,
     "schema_version": 3,
     "solution": false,
     "task": false
    },
    "run_control": {
     "frozen": true
    }
   },
   "outputs": [],
   "source": []
  },
  {
   "cell_type": "code",
   "execution_count": null,
   "metadata": {
    "deletable": false,
    "editable": false,
    "hide_input": true,
    "nbgrader": {
     "cell_type": "code",
     "checksum": "93716833318bb42481bac59dc5256b98",
     "grade": true,
     "grade_id": "cell-ba858b412adaf988",
     "locked": true,
     "points": 0,
     "schema_version": 3,
     "solution": false,
     "task": false
    },
    "run_control": {
     "frozen": true
    }
   },
   "outputs": [],
   "source": []
  },
  {
   "cell_type": "code",
   "execution_count": null,
   "metadata": {
    "deletable": false,
    "editable": false,
    "hide_input": true,
    "nbgrader": {
     "cell_type": "code",
     "checksum": "42adeb9f4126985bc6e4e1cc6dd37c1b",
     "grade": true,
     "grade_id": "cell-49cb397d8db43a9a",
     "locked": true,
     "points": 0,
     "schema_version": 3,
     "solution": false,
     "task": false
    },
    "run_control": {
     "frozen": true
    }
   },
   "outputs": [],
   "source": []
  },
  {
   "cell_type": "code",
   "execution_count": null,
   "metadata": {
    "deletable": false,
    "editable": false,
    "hide_input": true,
    "nbgrader": {
     "cell_type": "code",
     "checksum": "ecc9897621f5a143f6f2c5c07ca04527",
     "grade": true,
     "grade_id": "cell-8423d41c44c52a82",
     "locked": true,
     "points": 0,
     "schema_version": 3,
     "solution": false,
     "task": false
    },
    "run_control": {
     "frozen": true
    }
   },
   "outputs": [],
   "source": []
  },
  {
   "cell_type": "markdown",
   "metadata": {
    "deletable": false,
    "editable": false,
    "nbgrader": {
     "cell_type": "markdown",
     "checksum": "16f5839ffdfcfa89def2eb2f95bc788e",
     "grade": false,
     "grade_id": "cell-6be5c42f372f045e",
     "locked": true,
     "schema_version": 3,
     "solution": false,
     "task": false
    }
   },
   "source": [
    "## Aufgabe 1.2 \"High-Level\" Bibliothek für die Verwendung des Joysticks (20%)\n",
    "\n",
    "Für zukünftige Aufgaben wollen wir einen Gerätetreiber (da es ja auf unserem Mikrocontroller kein Betriebssystem gibt, das die Ansteuerung der Hardware für uns übernimmt, müssen wir direkt Gerätetreiber in unseren Programmen einbinden) für den auf den EduArdu verbauten Joystick implementieren. Der Joystick besitzt neben der x- und der y-Achse auch einen Button, d.h. der Joystick selber kann auch wie ein Knopf gedrückt werden.\n",
    "\n",
    "Der Gerätetreiber für den Joystick soll die Form einer Klasse haben, die die interne Ansteuerung des Joystick kapselt und eine einfach zu verwendende öffentliche Schnittstelle zur Verfügung stellt.\n",
    "\n",
    "### Öffentliches Interface\n",
    "\n",
    "Diese Klasse soll `JoystickHigh` heißen und folgende öffentliche Schnittstelle besitzen:\n",
    "\n",
    "- `JoystickHigh(int pinX, int pinY, int pinButton)`: Dem Konstruktor sollen die Pinnummern übergeben werden, an denen die analogen Axen des Joysticks und der Button angeschlossen sind.\n",
    "\n",
    "\n",
    "- `void begin()`: Initialisiert den Gerätetreiber. Wird einmalig zu Beginn des Mikrocontroller-Programms ausgeführt.\n",
    "\n",
    "\n",
    "- `void update()`: Liest die aktuellen Werte der Joystick-Achsen und des Buttons aus und speichert diese zwischen.\n",
    "\n",
    "\n",
    "- `int16_t getPosX(bool immediate = false)`: Gibt die aktuelle Position der x-Achse zurück. Der mögliche Wertebereich soll von -512 (links) über 0 (Ruheposition) bis 512 (rechts) gehen.\n",
    "\n",
    "\n",
    "- `int16_t getPosY(bool immediate = false)`: Gibt die aktuelle Position der y-Achse zurück. Der mögliche Wertebereich soll von -512 (links) über 0 (Ruheposition) bis 512 (rechts) gehen.\n",
    "\n",
    "\n",
    "- `bool getButton(bool immediate = false)`: Gibt den aktuellen Status des Buttons zurück. Rückgabewert ist `true`, wenn der Button gerade gedrückt ist, ansonsten `false`.\n",
    "\n",
    "\n",
    "- `void setDeadzone(int16_t deadzone)`: Erlaubt es, die Deadzone des Joysticks einzustellen.\n",
    "\n",
    "\n",
    "- `int16_t getDeadzone()`: Gibt die aktuell eingestellte Deadzone zurück.\n",
    "\n",
    "\n",
    "Sie können dieses Interface noch durch eigene Methoden ergänzen.\n",
    "\n",
    "Implementieren Sie den Gerätetreiber in den Dateien `JoystickHigh.h` bzw. `JoystickHigh.cpp`.\n",
    "\n",
    "\n",
    "### update() und die `immediate` Eingabeparameter\n",
    "\n",
    "Wenn in einem Mikrocontroller-Programm der Joystick verwendet wird, dann gibt es klassischerweise eine Endlosschleife im Programm (die sog. [Event-Loop](https://de.wikipedia.org/wiki/Ereignisschleife)), in der der aktuelle Status des Joysticks in regelmäßigen Abständen abgefragt wird.\n",
    "\n",
    "Dabei will man normalerweise nicht, dass sich ein Wert (z.B. die Position der x-Achse) **innerhalb derselben Iteration** dieser Event-Loop ändert, sondern dass die Werte gleich bleiben. Deswegen wird oft gleich zu Beginn einer Iteration der Event-Loop die aktuellen Werte ausgelesen, in Variablen zwischengespeichert und im weiteren Code aussschließlich die zwischengespeicherten Werte verwendet.\n",
    "\n",
    "In unserem Gerätetreiber ist es die Aufgabe der Objektfunktion `update()`, dass die aktuellen Werte ausgelesen und in Objektvariablen zwischengespeichert werden.\n",
    "\n",
    "Wenn die Funktionen `getPosX()`, `getPosY()` bzw. `getButton()` aufgerufen werden, dann kann anhand des Eingabeparameters `immediate` bestimmt werden, ob der von `update()` zwischengespeicherte Wert zurückgegeben wird (`immediate` ist `false`), oder der gerade aktuelle Wert frisch ausgelesen wird (`immediate` ist `true`).\n",
    "\n",
    "\n",
    "### Deadzone\n",
    "\n",
    "Der Joystick weißt gewisse Fertigungstoleranzen auf, was dazu führen kann, dass der Joystick nicht immer genau in der Mitte zur Ruhe kommt und es zu unbeabsichtigten Joystick-Bewegungen kommen kann. Damit das keine Probleme verursacht, wird eine sog. [\"Deadzone\"](https://www.quora.com/What-does-the-term-joystick-deadzone-mean) verwendet.\n",
    "\n",
    "\n",
    "### Implementierung\n",
    "\n",
    "Für die Implementierung dieses Gerätetreibers verwenden wir die von Arduino bereitgestellte High-Level Bibliothek (Deshab das Postfix `High` im Klassennamen).\n",
    "\n",
    "Für die Implementierung interessante Funktionen der Arduino Bibliothek sind:\n",
    "\n",
    "- [analogRead()](https://www.arduino.cc/reference/en/language/functions/analog-io/analogread)\n",
    "- [map()](https://www.arduino.cc/reference/de/language/functions/math/map/)\n",
    "\n",
    "Für das Debugging können Sie das `Serial` Objekt verwenden. Dieses repräsentiert den von der Arduino Programmbibliothek bereitgestellten Gerätetreiber für die serielle Schnittstelle:\n",
    "\n",
    "- [Serial.begin(int speed)](https://www.arduino.cc/reference/en/language/functions/communication/serial/begin/): Initialisiert die serielle Schnittstelle mit der angegebenen Geschwindigkeit.\n",
    "- [Serial.print(value)](https://www.arduino.cc/reference/de/language/functions/communication/serial/print/): Gibt den angegeben Wert über die serielle Schnittstelle aus. `value` kann ein String, eine Ganzzahl oder eine Gleitkommazahl sein.\n",
    "- [Serial.println(value)](https://www.arduino.cc/reference/de/language/functions/communication/serial/println/): Wie Serial.print(), nur dass am Ende noch ein Zeilenumbruch mit ausgegeben wird.\n",
    "\n",
    "\n",
    "Der Mikrocontroller-Pin, an dem der Joystick-Button hängt, kann leider nicht über die Arduino Bibliothek angesprochen werden. Daher können Sie für diesen nicht die Arduino High-Level Bibliothek verwenden, sondern Sie müssen ihn direkt über die entsprechenden Register konfigurieren und auslesen.\n",
    "\n",
    "\n",
    "### Demo\n",
    "\n",
    "Schreiben Sie ausserdem ein kleines Programm (in der Datei main.cpp), das die Verwendung ihres Gerätetreibers demonstriert. \n",
    "\n",
    "\n",
    "<div class=\"alert alert-block alert-info\">\n",
    "    <b>HINWEIS:</b> Sie finden auf der Sakai-Seite der Lesson 1 einen Beispielcode, der das Auslesen eines digitalen Eingangs über die low-level API anhand des Bewegungssensors demonstriert.\n",
    "</div>"
   ]
  },
  {
   "cell_type": "code",
   "execution_count": null,
   "metadata": {
    "deletable": false,
    "editable": false,
    "hide_input": true,
    "nbgrader": {
     "cell_type": "code",
     "checksum": "7f007375f7b05492e56cceedad651a1a",
     "grade": true,
     "grade_id": "cell-0a8aade7d51e9e4b",
     "locked": true,
     "points": 0,
     "schema_version": 3,
     "solution": false,
     "task": false
    },
    "run_control": {
     "frozen": true
    }
   },
   "outputs": [],
   "source": [
    "\n",
    "# new test suite\n",
    "jagl.testsuite_begin(\"Exercise 2\")\n"
   ]
  },
  {
   "cell_type": "code",
   "execution_count": null,
   "metadata": {
    "nbgrader": {
     "cell_type": "code",
     "checksum": "0d30140b50a39dbae1f7eedac4b7de64",
     "grade": false,
     "grade_id": "cell-e8743846abd10502",
     "locked": false,
     "schema_version": 3,
     "solution": true,
     "task": false
    }
   },
   "outputs": [],
   "source": [
    "# Weisen Sie der untenstehenden Variable den Wert True zu, sobald Sie die Aufgabe erfolgreich erledigt haben!\n",
    "\n",
    "exercise_1_2_solved = True"
   ]
  },
  {
   "cell_type": "code",
   "execution_count": null,
   "metadata": {
    "deletable": false,
    "editable": false,
    "hide_input": true,
    "nbgrader": {
     "cell_type": "code",
     "checksum": "95c929dda51d1136a6492d93a73f6593",
     "grade": true,
     "grade_id": "cell-07c20d634e11d352",
     "locked": true,
     "points": 20,
     "schema_version": 3,
     "solution": false,
     "task": false
    },
    "run_control": {
     "frozen": true
    }
   },
   "outputs": [],
   "source": [
    "@jagl.testcase(\"1\", desc=\"Exercise Solved\")\n",
    "def testcase_2_1(result, suite, case):\n",
    "    varname = \"exercise_1_2_solved\"\n",
    "    result.setSucceeded()\n",
    "    jagl.check_variable_exists_and_has_type(result, globals(), varname, bool)\n",
    "    if result.isSucceeded():\n",
    "        if eval(varname):\n",
    "            result.setSucceeded(\"Exercise solved.\")\n",
    "        else:\n",
    "            result.setFailed(\"Exercise not solved.\")"
   ]
  },
  {
   "cell_type": "code",
   "execution_count": null,
   "metadata": {
    "deletable": false,
    "editable": false,
    "hide_input": true,
    "nbgrader": {
     "cell_type": "code",
     "checksum": "75ad72be9c15dcd2a68db58639366653",
     "grade": true,
     "grade_id": "cell-b697b74df7d7ec71",
     "locked": true,
     "points": 0,
     "schema_version": 3,
     "solution": false,
     "task": false
    },
    "run_control": {
     "frozen": true
    }
   },
   "outputs": [],
   "source": [
    "@jagl.testcase(\"2\", desc=\"Check source files\", deps=[\"1\"])\n",
    "def testcase_2_2(result, suite, case):\n",
    "    result.setSucceeded()\n",
    "    jagl.check_path_exists(result, files=[\"JoystickHigh.h\", \"JoystickHigh.cpp\", \"main.cpp\"], message = \"Did you upload the source files?\")\n",
    "    if result.isSucceeded():\n",
    "        result.addMessage(\"Source files were found.\")"
   ]
  },
  {
   "cell_type": "code",
   "execution_count": null,
   "metadata": {
    "deletable": false,
    "editable": false,
    "hide_input": true,
    "nbgrader": {
     "cell_type": "code",
     "checksum": "fce91f84200b33b983a41462299623d2",
     "grade": true,
     "grade_id": "cell-69ead724d766798d",
     "locked": true,
     "points": 0,
     "schema_version": 3,
     "solution": false,
     "task": false
    },
    "run_control": {
     "frozen": true
    }
   },
   "outputs": [],
   "source": []
  },
  {
   "cell_type": "code",
   "execution_count": null,
   "metadata": {
    "deletable": false,
    "editable": false,
    "hide_input": true,
    "nbgrader": {
     "cell_type": "code",
     "checksum": "c262727e237b9e6752fe0c317f9b30e9",
     "grade": true,
     "grade_id": "cell-5a34758d235fbcf5",
     "locked": true,
     "points": 0,
     "schema_version": 3,
     "solution": false,
     "task": false
    },
    "run_control": {
     "frozen": true
    }
   },
   "outputs": [],
   "source": []
  },
  {
   "cell_type": "code",
   "execution_count": null,
   "metadata": {
    "deletable": false,
    "editable": false,
    "hide_input": true,
    "nbgrader": {
     "cell_type": "code",
     "checksum": "b8e4ff79f6103b16cc9814220a353bc1",
     "grade": true,
     "grade_id": "cell-a879d07197c15b37",
     "locked": true,
     "points": 0,
     "schema_version": 3,
     "solution": false,
     "task": false
    },
    "run_control": {
     "frozen": true
    }
   },
   "outputs": [],
   "source": []
  },
  {
   "cell_type": "code",
   "execution_count": null,
   "metadata": {
    "deletable": false,
    "editable": false,
    "hide_input": true,
    "nbgrader": {
     "cell_type": "code",
     "checksum": "76acbb4d6f98f27603391bb73f86365a",
     "grade": true,
     "grade_id": "cell-34be6923783df029",
     "locked": true,
     "points": 0,
     "schema_version": 3,
     "solution": false,
     "task": false
    },
    "run_control": {
     "frozen": true
    }
   },
   "outputs": [],
   "source": []
  },
  {
   "cell_type": "markdown",
   "metadata": {
    "deletable": false,
    "editable": false,
    "nbgrader": {
     "cell_type": "markdown",
     "checksum": "922cc7092f4e828b3fdfb714d3072853",
     "grade": false,
     "grade_id": "cell-bc619de50b2bf596",
     "locked": true,
     "schema_version": 3,
     "solution": false,
     "task": false
    }
   },
   "source": [
    "## Aufgabe 1.3 \"Low-Level\" Bibliothek für die Verwendung des Joysticks (20%)\n",
    "\n",
    "Manchmal macht es Sinn, auf die Arduino-Bibliothek zu verzichten um Overhead einzusparen. Für solche Fälle re-implementieren wir den Gerätetreiber von Aufgabe 1.2, wobei wir auf die Verwendung von Funktionen verzichten, die von der Arduino-Bibliothek bereitgestellt werden. Für den Gerätetreiber soll ausschließlich die von `avr-libc` bereitgestellte Low-Level Bibliothek verwendet werden.\n",
    "\n",
    "Die öffentliche Schnittstelle soll die gleiche bleiben. Nur der Klassenname ändert sich zu `JoystickLow` (und entsprechend auch die Dateinamen).\n",
    "\n",
    "Schreiben Sie ausserdem ein kleines Programm (in der Datei main.cpp), das die Verwendung ihres Gerätetreibers demonstriert."
   ]
  },
  {
   "cell_type": "code",
   "execution_count": null,
   "metadata": {
    "deletable": false,
    "editable": false,
    "hide_input": true,
    "nbgrader": {
     "cell_type": "code",
     "checksum": "6826e441c8b6eda89465313ed0bcee64",
     "grade": true,
     "grade_id": "cell-e1616fd3ca8f646e",
     "locked": true,
     "points": 0,
     "schema_version": 3,
     "solution": false,
     "task": false
    },
    "run_control": {
     "frozen": true
    }
   },
   "outputs": [],
   "source": [
    "\n",
    "# new test suite\n",
    "jagl.testsuite_begin(\"Exercise 3\")\n"
   ]
  },
  {
   "cell_type": "code",
   "execution_count": null,
   "metadata": {
    "nbgrader": {
     "cell_type": "code",
     "checksum": "7d6229081ac3a92c0989817e3ff840cc",
     "grade": false,
     "grade_id": "cell-4875ff0c3f9e792e",
     "locked": false,
     "schema_version": 3,
     "solution": true,
     "task": false
    }
   },
   "outputs": [],
   "source": [
    "# Weisen Sie der untenstehenden Variable den Wert True zu, sobald Sie die Aufgabe erfolgreich erledigt haben!\n",
    "\n",
    "exercise_1_3_solved = True"
   ]
  },
  {
   "cell_type": "code",
   "execution_count": null,
   "metadata": {
    "deletable": false,
    "editable": false,
    "hide_input": true,
    "nbgrader": {
     "cell_type": "code",
     "checksum": "5a7258b6a1e52d2df350494369679df6",
     "grade": true,
     "grade_id": "cell-07ff4e63bbea2f54",
     "locked": true,
     "points": 20,
     "schema_version": 3,
     "solution": false,
     "task": false
    },
    "run_control": {
     "frozen": true
    }
   },
   "outputs": [],
   "source": [
    "@jagl.testcase(\"1\", desc=\"Exercise Solved\")\n",
    "def testcase_3_1(result, suite, case):\n",
    "    varname = \"exercise_1_3_solved\"\n",
    "    result.setSucceeded()\n",
    "    jagl.check_variable_exists_and_has_type(result, globals(), varname, bool)\n",
    "    if result.isSucceeded():\n",
    "        if eval(varname):\n",
    "            result.setSucceeded(\"Exercise solved.\")\n",
    "        else:\n",
    "            result.setFailed(\"Exercise not solved.\")"
   ]
  },
  {
   "cell_type": "code",
   "execution_count": null,
   "metadata": {
    "deletable": false,
    "editable": false,
    "hide_input": true,
    "nbgrader": {
     "cell_type": "code",
     "checksum": "adaae5f4141bf9edb5ed733247e605a4",
     "grade": true,
     "grade_id": "cell-f34d1dd0e309cca1",
     "locked": true,
     "points": 0,
     "schema_version": 3,
     "solution": false,
     "task": false
    },
    "run_control": {
     "frozen": true
    }
   },
   "outputs": [],
   "source": [
    "@jagl.testcase(\"2\", desc=\"Check source files\", deps=[\"1\"])\n",
    "def testcase_3_2(result, suite, case):\n",
    "    result.setSucceeded()\n",
    "    jagl.check_path_exists(result, files=[\"JoystickLow.h\", \"JoystickLow.cpp\", \"main.cpp\"], message = \"Did you upload the source files?\")\n",
    "    if result.isSucceeded():\n",
    "        result.addMessage(\"Source files were found.\")"
   ]
  },
  {
   "cell_type": "code",
   "execution_count": null,
   "metadata": {
    "deletable": false,
    "editable": false,
    "hide_input": true,
    "nbgrader": {
     "cell_type": "code",
     "checksum": "6fd5865554c82085f6ee800b4d7ec769",
     "grade": true,
     "grade_id": "cell-6dace78075376d00",
     "locked": true,
     "points": 0,
     "schema_version": 3,
     "solution": false,
     "task": false
    },
    "run_control": {
     "frozen": true
    }
   },
   "outputs": [],
   "source": []
  },
  {
   "cell_type": "code",
   "execution_count": null,
   "metadata": {
    "deletable": false,
    "editable": false,
    "hide_input": true,
    "nbgrader": {
     "cell_type": "code",
     "checksum": "23e28783b2f39616148f14ce2fbd7924",
     "grade": true,
     "grade_id": "cell-ae1fccaa4699d675",
     "locked": true,
     "points": 0,
     "schema_version": 3,
     "solution": false,
     "task": false
    },
    "run_control": {
     "frozen": true
    }
   },
   "outputs": [],
   "source": []
  },
  {
   "cell_type": "code",
   "execution_count": null,
   "metadata": {
    "deletable": false,
    "editable": false,
    "hide_input": true,
    "nbgrader": {
     "cell_type": "code",
     "checksum": "8d5fe779beb06327644c4a476d546bee",
     "grade": true,
     "grade_id": "cell-f573e95483dfd3e4",
     "locked": true,
     "points": 0,
     "schema_version": 3,
     "solution": false,
     "task": false
    },
    "run_control": {
     "frozen": true
    }
   },
   "outputs": [],
   "source": []
  },
  {
   "cell_type": "code",
   "execution_count": null,
   "metadata": {
    "deletable": false,
    "editable": false,
    "hide_input": true,
    "nbgrader": {
     "cell_type": "code",
     "checksum": "713db542bb4f019d65f570672ecd59f7",
     "grade": true,
     "grade_id": "cell-2e1a658467558cd5",
     "locked": true,
     "points": 0,
     "schema_version": 3,
     "solution": false,
     "task": false
    },
    "run_control": {
     "frozen": true
    }
   },
   "outputs": [],
   "source": []
  },
  {
   "cell_type": "markdown",
   "metadata": {
    "deletable": false,
    "editable": false,
    "nbgrader": {
     "cell_type": "markdown",
     "checksum": "83ee709901c6c3f4ff00ba98ab17250f",
     "grade": false,
     "grade_id": "cell-ae2137682d2dfd18",
     "locked": true,
     "schema_version": 3,
     "solution": false,
     "task": false
    }
   },
   "source": [
    "## Aufgabe 1.4 simpleBlink (40%)\n",
    "\n",
    "Wir wollen in den weiteren Übungen für das EduArdu-Board eine Art Roboter, den `DiBS▪E`, implementieren. In dieser Aufgabe wollen wir die Grundlage dafür schaffen.\n",
    "\n",
    "Erstellen Sie die Dateien `dibse.h` und `dibse.cpp` und implementieren Sie dort die Klasse `DibsE`. Aktuell sollen darin die folgenden Methoden umgesetzt werden:\n",
    "* `void setup()`: wird in der `setup`-Funktion eines Arduino Programms aufgerufen. Diese Funktion macht derzeit noch nichts ;-)\n",
    "* `void loop()`: wird in der `loop`-Funktion eines Arduino Programms aufgerufen.\n",
    "* `void simpleBlinkOn(int duration, int red, int green, int blue)`: Diese Funktion soll das RGB-LED von `DiBS▪E` abwechselnd für die Dauer von `int duration` leuchten lassen bzw. ausschalten. Die Farbe wird dabei durch einen [RGB-Wert](https://www.w3schools.com/colors/colors_rgb.asp) (`int red`, `int green` & `int blue`) bestimmt.\n",
    "* `void simpleBlinkOff()`: stoppt das Blinken.\n",
    "\n",
    "### Implementierung\n",
    "\n",
    "Das eigentliche Blinken, soll in der Funktion `DibsE::loop()` stattfinden. In den Funktionen `DibsE::simpleBlinkOn(...)` und `DibsE::simpleBlinkOff()` werden nur entsprechende Objektvariablen gesetzt, welche dann von `DibsE::loop()` verwendet werden, um das eigentliche \"Blinken\" umzusetzen.\n",
    "\n",
    "### Hauptprogramm\n",
    "\n",
    "Implementieren Sie ein Programm (in der Datei main.cpp), das die Verwendung Ihrer Klasse demonstriert:\n",
    "\n",
    "* Erzeugen Sie eine Instanz der Klasse `DibsE dibse` ausserhalb von `setup` und `loop`.\n",
    "* Innerhalb von `setup` wird `dibse.setup()` aufgerufen.\n",
    "* Danach wird `dibse.simpleBlinkOn(...)` ausgeführt.\n",
    "* Innerhalb von `loop` wird `dibse.loop()` aufgerufen.\n",
    "\n",
    "<div class=\"alert alert-block alert-info\">\n",
    "    <b>HINWEIS:</b> Sie können für den Zugriff auf das RGB-LED die Funktionen der <a href='https://www.adafruit.com/category/168'>\"Adafruit_NeoPixel\" Library</a> verwenden. Um die Funktionsweise sicherstellen zu können, benötigen Sie außerdem die Library <a href='https://learn.adafruit.com/adafruit-gfx-graphics-library'>\"Adafruit GFX Library\"</a>. Sie finden ausserdem auf der Sakai Seite der Lesson 1 einen entsprechenden Beispielcode, der die Verwendung der RGB-LED demonstriert.\n",
    "</div>"
   ]
  },
  {
   "cell_type": "code",
   "execution_count": null,
   "metadata": {
    "deletable": false,
    "editable": false,
    "hide_input": true,
    "nbgrader": {
     "cell_type": "code",
     "checksum": "389e94c00977c69d2cc68617fc5221e2",
     "grade": true,
     "grade_id": "cell-2d8389da1584c2c2",
     "locked": true,
     "points": 0,
     "schema_version": 3,
     "solution": false,
     "task": false
    },
    "run_control": {
     "frozen": true
    }
   },
   "outputs": [],
   "source": [
    "\n",
    "# new test suite\n",
    "jagl.testsuite_begin(\"Exercise 4\")\n"
   ]
  },
  {
   "cell_type": "code",
   "execution_count": null,
   "metadata": {
    "nbgrader": {
     "cell_type": "code",
     "checksum": "ed557059d2b3a88311971df84908fdc6",
     "grade": false,
     "grade_id": "cell-67c2a0ddb036934f",
     "locked": false,
     "schema_version": 3,
     "solution": true,
     "task": false
    }
   },
   "outputs": [],
   "source": [
    "# Weisen Sie der untenstehenden Variable den Wert True zu, sobald Sie die Aufgabe erfolgreich erledigt haben!\n",
    "\n",
    "exercise_1_4_solved = True"
   ]
  },
  {
   "cell_type": "code",
   "execution_count": null,
   "metadata": {
    "deletable": false,
    "editable": false,
    "hide_input": true,
    "nbgrader": {
     "cell_type": "code",
     "checksum": "e2348a6a11d357a6fed973b71be7560a",
     "grade": true,
     "grade_id": "cell-fa81931d50a86b06",
     "locked": true,
     "points": 40,
     "schema_version": 3,
     "solution": false,
     "task": false
    },
    "run_control": {
     "frozen": true
    }
   },
   "outputs": [],
   "source": [
    "@jagl.testcase(\"1\", desc=\"Exercise Solved\")\n",
    "def testcase_4_1(result, suite, case):\n",
    "    varname = \"exercise_1_4_solved\"\n",
    "    result.setSucceeded()\n",
    "    jagl.check_variable_exists_and_has_type(result, globals(), varname, bool)\n",
    "    if result.isSucceeded():\n",
    "        if eval(varname):\n",
    "            result.setSucceeded(\"Exercise solved.\")\n",
    "        else:\n",
    "            result.setFailed(\"Exercise not solved.\")"
   ]
  },
  {
   "cell_type": "code",
   "execution_count": null,
   "metadata": {
    "deletable": false,
    "editable": false,
    "hide_input": true,
    "nbgrader": {
     "cell_type": "code",
     "checksum": "b1a3e304df30fee446e284d3e93eef85",
     "grade": true,
     "grade_id": "cell-7c9418add8edae47",
     "locked": true,
     "points": 0,
     "schema_version": 3,
     "solution": false,
     "task": false
    },
    "run_control": {
     "frozen": true
    }
   },
   "outputs": [],
   "source": [
    "@jagl.testcase(\"2\", desc=\"Check source files\", deps=[\"1\"])\n",
    "def testcase_4_2(result, suite, case):\n",
    "    result.setSucceeded()\n",
    "    jagl.check_path_exists(result, files=[\"dibse.h\", \"dibse.cpp\", \"main.cpp\"], message = \"Did you upload the source files?\")\n",
    "    if result.isSucceeded():\n",
    "        result.addMessage(\"Source files were found.\")"
   ]
  },
  {
   "cell_type": "code",
   "execution_count": null,
   "metadata": {
    "deletable": false,
    "editable": false,
    "hide_input": true,
    "nbgrader": {
     "cell_type": "code",
     "checksum": "09580b17f6f74c03a3af1d2c04e68212",
     "grade": true,
     "grade_id": "cell-f04df09a607f7a47",
     "locked": true,
     "points": 0,
     "schema_version": 3,
     "solution": false,
     "task": false
    },
    "run_control": {
     "frozen": true
    }
   },
   "outputs": [],
   "source": []
  },
  {
   "cell_type": "code",
   "execution_count": null,
   "metadata": {
    "deletable": false,
    "editable": false,
    "hide_input": true,
    "nbgrader": {
     "cell_type": "code",
     "checksum": "a983e98c5e493b125bc47c053d92c35e",
     "grade": true,
     "grade_id": "cell-b14014b4f2debf00",
     "locked": true,
     "points": 0,
     "schema_version": 3,
     "solution": false,
     "task": false
    },
    "run_control": {
     "frozen": true
    }
   },
   "outputs": [],
   "source": []
  },
  {
   "cell_type": "code",
   "execution_count": null,
   "metadata": {
    "deletable": false,
    "editable": false,
    "hide_input": true,
    "nbgrader": {
     "cell_type": "code",
     "checksum": "3346e3b22a071ff1c3101c1328b9880c",
     "grade": true,
     "grade_id": "cell-fe29160759fd5af8",
     "locked": true,
     "points": 0,
     "schema_version": 3,
     "solution": false,
     "task": false
    },
    "run_control": {
     "frozen": true
    }
   },
   "outputs": [],
   "source": []
  },
  {
   "cell_type": "code",
   "execution_count": null,
   "metadata": {
    "deletable": false,
    "editable": false,
    "hide_input": true,
    "nbgrader": {
     "cell_type": "code",
     "checksum": "5043c2d6f0821cee5d518759f78819f0",
     "grade": true,
     "grade_id": "cell-c64b8f5b51526c18",
     "locked": true,
     "points": 0,
     "schema_version": 3,
     "solution": false,
     "task": false
    },
    "run_control": {
     "frozen": true
    }
   },
   "outputs": [],
   "source": []
  }
 ],
 "metadata": {
  "kernelspec": {
   "display_name": "Python 3",
   "language": "python",
   "name": "python3"
  },
  "language_info": {
   "codemirror_mode": {
    "name": "ipython",
    "version": 3
   },
   "file_extension": ".py",
   "mimetype": "text/x-python",
   "name": "python",
   "nbconvert_exporter": "python",
   "pygments_lexer": "ipython3",
   "version": "3.8.8"
  }
 },
 "nbformat": 4,
 "nbformat_minor": 2
}
